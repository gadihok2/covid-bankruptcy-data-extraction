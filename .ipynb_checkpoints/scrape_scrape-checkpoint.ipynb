{
 "cells": [
  {
   "cell_type": "code",
   "execution_count": 2,
   "metadata": {},
   "outputs": [],
   "source": [
    "import json\n",
    "import os\n",
    "import requests\n",
    "import sys\n",
    "from lxml import html\n",
    "\n",
    "from selenium import webdriver \n",
    "from selenium.webdriver.common.by import By \n",
    "from selenium.webdriver.support.ui import WebDriverWait \n",
    "from selenium.webdriver.support import expected_conditions as EC \n",
    "from selenium.common.exceptions import TimeoutException\n",
    "\n",
    "INPUT_FILE_PATH = \"\"\n",
    "#DOWNLOAD_DIR_PATH = \"\"\n",
    "CHROME_DRIVER_PATH = \"\"\n",
    "\n",
    "#session_requests = requests.session()\n",
    "#login_url = \"https://news.bloomberglaw.com\"\n",
    "#result = session_requests.get(login_url)\n"
   ]
  },
  {
   "cell_type": "code",
   "execution_count": 3,
   "metadata": {},
   "outputs": [],
   "source": [
    "def _fill_text(el, search_key, search_params):\n",
    "    if search_key in search_params:\n",
    "        el.send_keys(search_params[search_key])"
   ]
  },
  {
   "cell_type": "code",
   "execution_count": 7,
   "metadata": {},
   "outputs": [
    {
     "name": "stdout",
     "output_type": "stream",
     "text": [
      "Usage: python search.py <search query input file path> <download directory path> <chrome drivr path>\n"
     ]
    },
    {
     "ename": "IndexError",
     "evalue": "list index out of range",
     "output_type": "error",
     "traceback": [
      "\u001b[0;31m---------------------------------------------------------------------------\u001b[0m",
      "\u001b[0;31mIndexError\u001b[0m                                Traceback (most recent call last)",
      "\u001b[0;32m<ipython-input-7-91b530ed8f04>\u001b[0m in \u001b[0;36m<module>\u001b[0;34m\u001b[0m\n\u001b[1;32m     31\u001b[0m     \u001b[0mINPUT_FILE_PATH\u001b[0m \u001b[0;34m=\u001b[0m \u001b[0msys\u001b[0m\u001b[0;34m.\u001b[0m\u001b[0margv\u001b[0m\u001b[0;34m[\u001b[0m\u001b[0;36m1\u001b[0m\u001b[0;34m]\u001b[0m\u001b[0;34m\u001b[0m\u001b[0;34m\u001b[0m\u001b[0m\n\u001b[1;32m     32\u001b[0m     \u001b[0mDOWNLOAD_DIR_PATH\u001b[0m \u001b[0;34m=\u001b[0m \u001b[0msys\u001b[0m\u001b[0;34m.\u001b[0m\u001b[0margv\u001b[0m\u001b[0;34m[\u001b[0m\u001b[0;36m2\u001b[0m\u001b[0;34m]\u001b[0m\u001b[0;34m\u001b[0m\u001b[0;34m\u001b[0m\u001b[0m\n\u001b[0;32m---> 33\u001b[0;31m     \u001b[0mCHROME_DRIVER_PATH\u001b[0m \u001b[0;34m=\u001b[0m \u001b[0msys\u001b[0m\u001b[0;34m.\u001b[0m\u001b[0margv\u001b[0m\u001b[0;34m[\u001b[0m\u001b[0;36m3\u001b[0m\u001b[0;34m]\u001b[0m\u001b[0;34m\u001b[0m\u001b[0;34m\u001b[0m\u001b[0m\n\u001b[0m\u001b[1;32m     34\u001b[0m     \u001b[0mmain\u001b[0m\u001b[0;34m(\u001b[0m\u001b[0;34m)\u001b[0m\u001b[0;34m\u001b[0m\u001b[0;34m\u001b[0m\u001b[0m\n",
      "\u001b[0;31mIndexError\u001b[0m: list index out of range"
     ]
    }
   ],
   "source": [
    "def search(browser, search_params):\n",
    "    browser.get(\"https://news.bloomberglaw.com\")\n",
    "    \n",
    "    # Find elements for search parameters\n",
    "\n",
    "    username = browser.find_element_by_xpath(\"//*[@id='indg-username']\")\n",
    "    #password = browser.find_element_by_id(\"\")\n",
    "        \n",
    "    # Enter search parameters from input file\n",
    "    _fill_text(username, \"Username\", search_params)\n",
    "    _fill_text(keywords, \"Password\", search_params)\n",
    "    \n",
    "    print(username)\n",
    "    \n",
    "def main():\n",
    "    browser = webdriver.Chrome(executable_path=CHROME_DRIVER_PATH, chrome_options=option)\n",
    "    #with open(INPUT_FILE_PATH, \"r\") as f:\n",
    "        #queries = json.load(f)\n",
    "        #for query in queries:\n",
    "         #   if search(browser, query):\n",
    "          #      download(browser)\n",
    "           #     query_count += 1\n",
    "               # print(\"\\n\" + str(query_count) + \" queries completed!\" + \"\\n\")\n",
    "    #browser.quit()\n",
    "    \n",
    "if __name__ == '__main__':\n",
    "    if len(sys.argv) < 3:\n",
    "        print(\"Usage: python scrape_scrape.py <search query input file path> <chrome drivr path>\")\n",
    "        exit(1)\n",
    "    # See expected input file format in README\n",
    "    INPUT_FILE_PATH = sys.argv[1]\n",
    "    #DOWNLOAD_DIR_PATH = sys.argv[2]\n",
    "    CHROME_DRIVER_PATH = sys.argv[2]\n",
    "    main()"
   ]
  },
  {
   "cell_type": "code",
   "execution_count": null,
   "metadata": {},
   "outputs": [],
   "source": []
  }
 ],
 "metadata": {
  "kernelspec": {
   "display_name": "Python 3",
   "language": "python",
   "name": "python3"
  },
  "language_info": {
   "codemirror_mode": {
    "name": "ipython",
    "version": 3
   },
   "file_extension": ".py",
   "mimetype": "text/x-python",
   "name": "python",
   "nbconvert_exporter": "python",
   "pygments_lexer": "ipython3",
   "version": "3.8.1"
  }
 },
 "nbformat": 4,
 "nbformat_minor": 4
}
